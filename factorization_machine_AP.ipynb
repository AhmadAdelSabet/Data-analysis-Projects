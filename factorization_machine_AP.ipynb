{
  "cells": [
    {
      "cell_type": "markdown",
      "metadata": {
        "id": "view-in-github",
        "colab_type": "text"
      },
      "source": [
        "<a href=\"https://colab.research.google.com/github/AhmadAdelSabet/AhmadAdelSabet/blob/master/factorization_machine_AP.ipynb\" target=\"_parent\"><img src=\"https://colab.research.google.com/assets/colab-badge.svg\" alt=\"Open In Colab\"/></a>"
      ]
    },
    {
      "cell_type": "markdown",
      "source": [
        "## DSTA Lab 10_b\n",
        "This is an implementation of a factorization machine for binary classification. The notebook is downloaded from a GitHub repository maintained by MingYu (Ethen) Liu. For brevity, I removed first few cells from the original notebook. The link is as follows: \n",
        "https://nbviewer.org/github/ethen8181/machine-learning/blob/master/recsys/factorization_machine/factorization_machine.ipynb \n",
        "\n",
        "You need to download a text dataset (filename is sms.tsv) that contains text messages labelled as \"ham\" or \"spam\". "
      ],
      "metadata": {
        "id": "QrjKzdmkOvp8"
      }
    },
    {
      "cell_type": "markdown",
      "metadata": {
        "toc": "true",
        "id": "Goq9VzKjDEcY"
      },
      "source": [
        "<h1>Table of Contents<span class=\"tocSkip\"></span></h1>\n",
        "<div class=\"toc\"><ul class=\"toc-item\"><li><span><a href=\"#Factorization-Machine-(FM)\" data-toc-modified-id=\"Factorization-Machine-(FM)-1\"><span class=\"toc-item-num\">1&nbsp;&nbsp;</span>Factorization Machine (FM)</a></span><ul class=\"toc-item\"><li><span><a href=\"#Introduction\" data-toc-modified-id=\"Introduction-1.1\"><span class=\"toc-item-num\">1.1&nbsp;&nbsp;</span>Introduction</a></span></li><li><span><a href=\"#Implementation\" data-toc-modified-id=\"Implementation-1.2\"><span class=\"toc-item-num\">1.2&nbsp;&nbsp;</span>Implementation</a></span></li></ul></li><li><span><a href=\"#Reference\" data-toc-modified-id=\"Reference-2\"><span class=\"toc-item-num\">2&nbsp;&nbsp;</span>Reference</a></span></li></ul></div>"
      ]
    },
    {
      "cell_type": "code",
      "execution_count": null,
      "metadata": {
        "id": "xHIlSPbaDEcc"
      },
      "outputs": [],
      "source": [
        "import os\n",
        "import numpy as np\n",
        "import pandas as pd\n",
        "import matplotlib.pyplot as plt\n",
        "from sklearn.metrics import roc_auc_score\n",
        "from sklearn.linear_model import LogisticRegression\n",
        "from sklearn.model_selection import train_test_split\n",
        "from sklearn.feature_extraction.text import TfidfVectorizer\n"
      ]
    },
    {
      "cell_type": "markdown",
      "metadata": {
        "id": "blJF4mONDEcd"
      },
      "source": [
        "# Factorization Machine (FM)"
      ]
    },
    {
      "cell_type": "markdown",
      "metadata": {
        "id": "b3aGOF6wDEcd"
      },
      "source": [
        "**Factorization Machine** type algorithms are a combination of linear regression and matrix factorization, the cool idea behind this type of algorithm is it aims model interactions between features (a.k.a attributes, explanatory variables) using factorized parameters. By doing so it has the ability to estimate all interactions between features even with extremely sparse data."
      ]
    },
    {
      "cell_type": "markdown",
      "metadata": {
        "id": "hz7jn0niDEcd"
      },
      "source": [
        "## Introduction"
      ]
    },
    {
      "cell_type": "markdown",
      "metadata": {
        "id": "YcXR43WMDEcd"
      },
      "source": [
        "Normally, when we think of linear regression, we would think of the following formula:\n",
        "\n",
        "\\begin{align}\n",
        "\\hat{y}(\\textbf{x}) = w_{0} + \\sum_{i=1}^{n} w_{i} x_{i}\n",
        "\\end{align}\n",
        "\n",
        "Where:\n",
        "\n",
        "- $w_0$ is the bias term, a.k.a intercept.\n",
        "- $w_i$ are weights corresponding to each feature vector $x_i$, here we assume we have $n$ total features.\n",
        "\n",
        "This formula's advantage is that it can computed in linear time, $O(n)$. The drawback, however, is that it does not handle feature interactions. To capture interactions, we could introduce a weight for each feature combination. This is sometimes referred to as a $2_{nd}$ ordered polynomial. The resulting model is shown below:\n",
        "\n",
        "\\begin{align}\n",
        "\\hat{y}(\\textbf{x}) = w_{0} + \\sum_{i=1}^{n} w_{i} x_{i} +  \\sum_{i=1}^n \\sum_{j=i+1}^n w_{ij} x_{i} x_{j}\n",
        "\\end{align}\n",
        "\n",
        "Compared to our previous model, this formulation has the advantages that it can capture feature interactions at least for two features at a time. But we have now ended up with a $O(n^2)$ complexity which means that to train the model, we now require a lot more time and memory. Another issue is that when we have categorical variables with high cardinality, after one-hot encoding them, we would end up with a lot of columns that are sparse, making it harder to actually capture their interactions (not enough data).\n",
        "\n",
        "To solve this complexity issue, Factorization Machines takes inspiration from [matrix factorization](http://nbviewer.jupyter.org/github/ethen8181/machine-learning/blob/master/recsys/1_ALSWR.ipynb), and models the feature interaction using latent factors. Every feature $f_i$ has a corresponding latent factor $v_i$, and two features' interactions are modelled as $\\langle \\textbf{v}_i, \\textbf{v}_{j} \\rangle$, where $\\langle \\cdot \\;,\\cdot \\rangle$ refers to the dot product of the two feature vector. If we assume its of size $k$ (this is a hyperparameter that we can tune). Then:\n",
        "\n",
        "\\begin{align}\n",
        "\\langle \\textbf{v}_i, \\textbf{v}_{j} \\rangle = \\sum_{f=1}^k v_{i,f} v_{j,f}\n",
        "\\end{align}\n",
        "\n",
        "This leads of our new equation:\n",
        "\n",
        "\\begin{align}\n",
        "\\hat{y}(\\textbf{x}) = w_{0} + \\sum_{i=1}^{n} w_{i} x_{i} + \\sum_{i=1}^{n} \\sum_{j=i+1}^n \\langle \\textbf{v}_i , \\textbf{v}_{j} \\rangle x_i x_{j}\n",
        "\\end{align}\n",
        "\n",
        "This is an improvement from our previous model (when we modeled each pair of interaction terms with weight $w_{ij}$) as the number of parameters is reduced from $n^2$ to $n \\times k$, since $k \\ll n$, which also helps mitigate overfitting issues. Using the naive way of formulating factorization machine results in a complexity of $O(kn^2)$, because all pairwise interactions have to be computed, but we can reformulate it to make it run in $O(kn)$.\n",
        "\n",
        "\n",
        "\\begin{align}\n",
        "\\sum_{i=1}^n \\sum_{j=i+1}^n \\langle \\textbf{v}_i, \\textbf{v}_{j} \\rangle x_{i} x_{j}\n",
        "&= \\frac{1}{2} \\sum_{i=1}^n \\sum_{j=1}^n \\langle \\textbf{v}_i, \\textbf{v}_{j} \\rangle x_{i} x_{j} - \\frac{1}{2} \\sum_{i=1}^n \\langle \\textbf{v}_i , \\textbf{v}_{i} \\rangle x_{i} x_{i}  \\\\\n",
        "&= \\frac{1}{2}\\left(\\sum_{i=1}^n \\sum_{j=1}^n \\sum_{f=1}^k v_{i,f} v_{j,f} x_{i} x_{j} \\right) - \\frac{1}{2}\\left( \\sum_{i=1}^n \\sum_{f=1}^k v_{i,f} v_{i,f} x_{i} x_{i} \\right) \\\\\n",
        "&= \\frac{1}{2}\\left(\\sum_{i=1}^n \\sum_{j=1}^n \\sum_{f=1}^k v_{i,f} v_{j,f} x_{i} x_{j}  -  \\sum_{i=1}^n \\sum_{f=1}^k v_{i,f} v_{i,f} x_{i} x_{i} \\right) \\\\\n",
        "&= \\frac{1}{2} \\sum_{f=1}^{k} \\left( \\left(\\sum_{i=1}^n v_{i,f}x_{i} \\right) \\left( \\sum_{j=1}^n v_{j,f}x_{j} \\right) - \\sum_{i=1}^{n} v_{i,f}^2 x_{i}^2 \\right) \\\\\n",
        "&= \\frac{1}{2} \\sum_{f=1}^{k} \\left( \\left( \\sum_{i}^{n} v_{i,f}x_{i} \\right)^2  - \\sum_{i=1}^{n} v_{i,f}^2 x_{i}^2 \\right)\n",
        "\\end{align}\n",
        "\n",
        "Note, summing over different pairs is the same as summing over all pairs minus the self-interactions (divided by two). This is the reason why the value 1/2 is introduced from the beginning of the derivation.\n",
        "\n",
        "This reformulated equation has a linear complexity in both $k$ and $n$, i.e. its computation is in $O(kn)$, substituting this new equation into the existing factorization machine formula, we end up with:\n",
        "\n",
        "\\begin{align}\n",
        "\\hat{y}(\\textbf{x}) = w_{0} + \\sum_{i=1}^{n} w_{i} x_{i} + \\frac{1}{2} \\sum_{f=1}^{k} \\left( \\left( \\sum_{i}^{n} v_{i,f}x_{i} \\right)^2  - \\sum_{i=1}^{n} v_{i,f}^2 x_{i}^2 \\right)\n",
        "\\end{align}"
      ]
    },
    {
      "cell_type": "markdown",
      "metadata": {
        "id": "TkB7ed28DEce"
      },
      "source": [
        "In a machine learning setting, factorization machine can be applied to different supervised prediction tasks:\n",
        "\n",
        "- **Regression:**, in this case $\\hat{y}(\\textbf{x})$ can be used directly by minimizing the mean squared error between the model prediction and target value, e.g. $\\frac{1}{N}\\sum^{N}\\big(y - \\hat{y}(\\textbf{x})\\big)^2$\n",
        "- **Classification:**, if we were to use it in a binary classification setting, we could then minimize the log loss, $\\ln \\big(e^{-y \\cdot \\hat{y}(\\textbf{x})} + 1 \\big)$, where $\\sigma$ is the sigmoid/logistic function and $y \\in {-1, 1}$.\n",
        "\n",
        "To train factorization machine, we can use a gradient descent based optimization techniques, the parameters to be learned are $(w_0, \\mathbf{w},$ and $\\mathbf{V}$).\n",
        "\n",
        "\\begin{align}\n",
        "\\frac{\\partial}{\\partial\\theta}\\hat{y}(\\textbf{x}) =\n",
        "\\begin{cases}\n",
        "1,  & \\text{if $\\theta$ is $w_0$} \\\\\n",
        "x_i, & \\text{if $\\theta$ is $w_i$} \\\\\n",
        "x_i\\sum_{j=1}^{n} v_{j,f}x_j - v_{i,f}x_{i}^2 & \\text{if $\\theta$ is $v_{i,f}$}\n",
        "\\end{cases}\n",
        "\\end{align}\n",
        "\n",
        "- Notice that $\\sum_{j=1}^n v_{j, f} x_j$ does not depend on $i$, thus it can be computed independently.\n",
        "- The last formula above, can also be written as $x_i(\\sum_{j=1}^{n} v_{j,f}x_j - v_{i,f}x_{i})$.\n",
        "- In practice, we would throw in some L2 regularization to prevent overfitting.\n",
        "\n",
        "As the next section contains implementation of the algorithm from scratch, the gradient of the log loss is also provided here for completeness. The predicted value $\\hat{y}(\\textbf{x})$ is replaced with $x$ for making the notation cleaner.\n",
        "\n",
        "\n",
        "\\begin{align}\n",
        "\\frac{d}{dx}\\left[ \\ln \\big(e^{-yx} + 1 \\big) \\right] \n",
        "&= \\frac{1}{e^{-yx} + 1} \\cdot  \\frac{d}{dx}\\left[e^{-yx} + 1 \\right] \\\\\n",
        "&= \\frac{\\frac{d}{dx}\\left[e^{-yx} \\right] + \\frac{d}{dx}\\left[1 \\right]}{e^{-yx} + 1} \\\\\n",
        "&= \\frac{e^{-yx} \\cdot \\frac{d}{dx}\\left[-yx \\right] + 0}{e^{-yx} + 1} \\\\\n",
        "&= \\frac{e^{-yx} \\cdot -y}{e^{-yx} + 1} \\\\\n",
        "&= -\\frac{ye^{-yx}}{e^{-yx} + 1} \\\\\n",
        "&= -\\frac{y}{e^{yx} + 1}\n",
        "\\end{align}\n",
        "\n",
        "---\n",
        "\n",
        "**Advantages:** We'll now wrap up the theoretical section of factorization machine, with some of its advantages:\n",
        "\n",
        "- We can observe from the model equation that it can be computed in linear time.\n",
        "- By leveraging ideas from matrix factorization, we can estimate higher order interaction effects even under very sparse data.\n",
        "- Compared to traditional matrix factorization methods, which is restricted to modeling a user-item matrix, we can leverage other user or item specific features making factorization machine more flexible."
      ]
    },
    {
      "cell_type": "markdown",
      "metadata": {
        "id": "te-Qa_04DEcf"
      },
      "source": [
        "## Implementation"
      ]
    },
    {
      "cell_type": "markdown",
      "metadata": {
        "id": "JsFZtKHWDEcf"
      },
      "source": [
        "For the implementation of factorization machine, we'll use a for loop based code as I personally find it easier to comprehend for the gradient update section. There are different ways to speed up for loop based code in Python, such as using [Cython or Numba](http://nbviewer.jupyter.org/github/ethen8181/machine-learning/blob/master/python/cython/cython.ipynb), here we'll be using Numba."
      ]
    },
    {
      "cell_type": "code",
      "execution_count": null,
      "metadata": {
        "colab": {
          "base_uri": "https://localhost:8080/"
        },
        "id": "R7mJH3-ADEcg",
        "outputId": "e5394ffe-d283-4a49-b9b7-e10160d1de80"
      },
      "outputs": [
        {
          "output_type": "execute_result",
          "data": {
            "text/plain": [
              "<4179x3508 sparse matrix of type '<class 'numpy.float64'>'\n",
              "\twith 51261 stored elements in Compressed Sparse Row format>"
            ]
          },
          "metadata": {},
          "execution_count": 5
        }
      ],
      "source": [
        "# using the example spam dataset\n",
        "# read it in, extract the input and output columns\n",
        "\n",
        "label_col = 'label_num'\n",
        "sms = pd.read_table('sms.tsv', header = None, names = ['label', 'message'])\n",
        "#print(sms)\n",
        "sms[label_col] = sms['label'].map({'ham': 0, 'spam': 1})\n",
        "X = sms['message']\n",
        "y = sms[label_col].values\n",
        "#print(X)\n",
        "# split X and y into training and testing sets\n",
        "X_train, X_test, y_train, y_test = train_test_split(\n",
        "    X, y, test_size = 0.25, random_state = 1)\n",
        "\n",
        "# convert both sets' text column to document-term matrix;\n",
        "# ideally, we would want to perform some preprocessing on\n",
        "# our text data, but let's be lazy here as that's not\n",
        "# the goal of this documentation\n",
        "tfidf = TfidfVectorizer(min_df = 2, max_df = 0.5)\n",
        "#print(tfidf.get_feature_names_out())\n",
        "#print(tfidf.to_array())\n",
        "X_train_dtm = tfidf.fit_transform(X_train)\n",
        "X_test_dtm = tfidf.transform(X_test)\n",
        "X_train_dtm\n",
        "#print(X_train_dtm.toarray())"
      ]
    },
    {
      "cell_type": "code",
      "execution_count": null,
      "metadata": {
        "collapsed": true,
        "id": "70vdF2a9DEcg"
      },
      "outputs": [],
      "source": [
        "import numpy as np\n",
        "from numba import njit\n",
        "from tqdm import trange\n",
        "from sklearn.base import BaseEstimator, ClassifierMixin\n",
        "\n",
        "\n",
        "class FactorizationMachineClassifier(BaseEstimator, ClassifierMixin):\n",
        "    \"\"\"\n",
        "    Factorization Machine [1]_ using Stochastic Gradient Descent.\n",
        "    For binary classification only.\n",
        "\n",
        "    Parameters\n",
        "    ----------\n",
        "    n_iter : int, default 10\n",
        "        Number of iterations to train the algorithm.\n",
        "\n",
        "    n_factors : int, default 10\n",
        "        Number/dimension of features' latent factors.\n",
        "\n",
        "    learning_rate : float, default 0.1\n",
        "        Learning rate for the gradient descent optimizer.\n",
        "\n",
        "    reg_coef : float, default 0.01\n",
        "        Regularization strength for weights/coefficients.\n",
        "\n",
        "    reg_factors : float, default 0.01\n",
        "        Regularization strength for features' latent factors.\n",
        "\n",
        "    random_state : int, default 1234\n",
        "        Seed for the randomly initialized features latent factors\n",
        "\n",
        "    verbose : bool, default True\n",
        "        Whether to print progress bar while training.\n",
        "\n",
        "    Attributes\n",
        "    ----------\n",
        "    intercept_ : double\n",
        "        Intercept term, w0 based on the original notations.\n",
        "\n",
        "    coef_ : 1d ndarray, shape [n_features,]\n",
        "        Coefficients, w based on the original notations.\n",
        "\n",
        "    feature_factors_ : 2d ndarray, shape [n_factors, n_features]\n",
        "        Latent factors for all features. v based on the original\n",
        "        notations. The learned factors can be viewed as the\n",
        "        embeddings for each features. If a pair of features tends\n",
        "        to co-occur often, then their embeddings should be\n",
        "        close/similar (in terms of cosine similarity) to each other.\n",
        "\n",
        "    history_ : list\n",
        "        Loss function's history at each iteration, useful\n",
        "        for evaluating whether the algorithm converged or not.\n",
        "\n",
        "    References\n",
        "    ----------\n",
        "    .. [1] `S. Rendle Factorization Machines (2010)\n",
        "            <http://www.csie.ntu.edu.tw/~b97053/paper/Rendle2010FM.pdf>`_ \n",
        "    \"\"\"\n",
        "\n",
        "    def __init__(self, n_iter = 10, n_factors = 10,\n",
        "                 learning_rate = 0.1, reg_coef = 0.01,\n",
        "                 reg_factors = 0.01, random_state = 1234, verbose = False):\n",
        "        self.n_iter = n_iter\n",
        "        self.verbose = verbose\n",
        "        self.reg_coef = reg_coef\n",
        "        self.n_factors = n_factors\n",
        "        self.reg_factors = reg_factors\n",
        "        self.random_state = random_state\n",
        "        self.learning_rate = learning_rate\n",
        "\n",
        "    def fit(self, X, y):\n",
        "        \"\"\"\n",
        "        Fit the model to the input data and label.\n",
        "\n",
        "        Parameters\n",
        "        ----------\n",
        "        X : scipy sparse csr_matrix, shape [n_samples, n_features]\n",
        "            Data in sparse matrix format.\n",
        "\n",
        "        y : 1d ndarray, shape [n_samples,]\n",
        "            Training data's corresponding label.\n",
        "\n",
        "        Returns\n",
        "        -------\n",
        "        self\n",
        "        \"\"\"\n",
        "\n",
        "        n_samples, n_features = X.shape\n",
        "        self.coef_ = np.zeros(n_features)\n",
        "        self.intercept_ = 0.0\n",
        "\n",
        "        # the factors are often initialized with a mean of 0 and standard deviation\n",
        "        # of 1 / sqrt(number of latent factor specified)\n",
        "        np.random.seed(self.random_state)\n",
        "        self.feature_factors_ = np.random.normal(\n",
        "            scale = 1 / np.sqrt(self.n_factors), size = (self.n_factors, n_features))\n",
        "        \n",
        "        # the gradient is implemented in a way that requires\n",
        "        # the negative class to be labeled as -1 instead of 0\n",
        "        y = y.copy().astype(np.int32)\n",
        "        y[y == 0] = -1\n",
        "\n",
        "        loop = range(self.n_iter)\n",
        "        if self.verbose:\n",
        "            loop = trange(self.n_iter)\n",
        "\n",
        "        self.history_ = []\n",
        "        for _ in loop:\n",
        "            loss = _sgd_update(X.data, X.indptr, X.indices,\n",
        "                               y, n_samples, n_features,\n",
        "                               self.intercept_, self.coef_,\n",
        "                               self.feature_factors_, self.n_factors,\n",
        "                               self.learning_rate, self.reg_coef, self.reg_factors)\n",
        "            self.history_.append(loss)\n",
        "\n",
        "        return self\n",
        "\n",
        "    def predict_proba(self, X):\n",
        "        \"\"\"\n",
        "        Probability estimates. The returned estimates for\n",
        "        all classes are ordered by the label of classes.\n",
        "\n",
        "        Paramters\n",
        "        ---------\n",
        "        X : scipy sparse csr_matrix, shape [n_samples, n_features]\n",
        "            Data in sparse matrix format.\n",
        "\n",
        "        Returns\n",
        "        -------\n",
        "        proba : 2d ndarray, shape [n_samples, n_classes]\n",
        "            The probability of the sample for each class in the model.\n",
        "        \"\"\"\n",
        "        pred = self._predict(X)\n",
        "        pred_proba = 1.0 / (1.0 + np.exp(-pred))\n",
        "        proba = np.vstack((1 - pred_proba, pred_proba)).T\n",
        "        return proba\n",
        "\n",
        "    def _predict(self, X):\n",
        "        \"\"\"Similar to _predict_instance but vectorized for all samples\"\"\"\n",
        "        linear_output = X * self.coef_\n",
        "        v = self.feature_factors_.T\n",
        "        term = (X * v) ** 2 - (X.power(2) * (v ** 2))\n",
        "        factor_output = 0.5 * np.sum(term, axis = 1)\n",
        "        return self.intercept_ + linear_output + factor_output\n",
        "\n",
        "    def predict(self, X):\n",
        "        \"\"\"\n",
        "        Predict class labels for samples in X.\n",
        "\n",
        "        Parameters\n",
        "        ----------\n",
        "        X : scipy sparse csr_matrix, shape [n_samples, n_features]\n",
        "            Data in sparse matrix format.\n",
        "\n",
        "        Returns\n",
        "        -------\n",
        "        Predicted class label per sample.\n",
        "        \"\"\"\n",
        "        pred_proba = self.predict_proba(X)[:, 1]\n",
        "        return pred_proba.round().astype(np.int)\n",
        "\n",
        "\n",
        "@njit\n",
        "def _sgd_update(data, indptr, indices, y, n_samples, n_features,\n",
        "                w0, w, v, n_factors, learning_rate, reg_w, reg_v):\n",
        "    \"\"\"\n",
        "    Compute the loss of the current iteration and update\n",
        "    gradients accordingly.\n",
        "    \"\"\"\n",
        "    loss = 0.0\n",
        "    for i in range(n_samples):\n",
        "        pred, summed = _predict_instance(data, indptr, indices, w0, w, v, n_factors, i)\n",
        "        \n",
        "        # calculate loss and its gradient\n",
        "        loss += _log_loss(pred, y[i])\n",
        "        loss_gradient = -y[i] / (np.exp(y[i] * pred) + 1.0)\n",
        "    \n",
        "        # update bias/intercept term\n",
        "        w0 -= learning_rate * loss_gradient\n",
        "\n",
        "        # update weight\n",
        "        for index in range(indptr[i], indptr[i + 1]):\n",
        "            feature = indices[index]\n",
        "            w[feature] -= learning_rate * (loss_gradient * data[index] + 2 * reg_w * w[feature])\n",
        "\n",
        "        # update factor\n",
        "        for factor in range(n_factors):\n",
        "            for index in range(indptr[i], indptr[i + 1]):\n",
        "                feature = indices[index]\n",
        "                term = summed[factor] - v[factor, feature] * data[index]\n",
        "                v_gradient = loss_gradient * data[index] * term\n",
        "                v[factor, feature] -= learning_rate * (v_gradient + 2 * reg_v * v[factor, feature])\n",
        "    \n",
        "    loss /= n_samples\n",
        "    return loss\n",
        "\n",
        "\n",
        "@njit\n",
        "def _predict_instance(data, indptr, indices, w0, w, v, n_factors, i):\n",
        "    \"\"\"predicting a single instance\"\"\"\n",
        "    summed = np.zeros(n_factors)\n",
        "    summed_squared = np.zeros(n_factors)\n",
        "\n",
        "    # linear output w * x\n",
        "    pred = w0\n",
        "    for index in range(indptr[i], indptr[i + 1]):\n",
        "        feature = indices[index]\n",
        "        pred += w[feature] * data[index]\n",
        "\n",
        "    # factor output\n",
        "    for factor in range(n_factors):\n",
        "        for index in range(indptr[i], indptr[i + 1]):\n",
        "            feature = indices[index]\n",
        "            term = v[factor, feature] * data[index]\n",
        "            summed[factor] += term\n",
        "            summed_squared[factor] += term * term\n",
        "\n",
        "        pred += 0.5 * (summed[factor] * summed[factor] - summed_squared[factor])\n",
        "    \n",
        "    # summed is the independent term that can be re-used\n",
        "    # during the gradient update stage\n",
        "    return pred, summed\n",
        "\n",
        "\n",
        "@njit\n",
        "def _log_loss(pred, y):\n",
        "    \"\"\"\n",
        "    negative log likelihood of the\n",
        "    current prediction and label, y.\n",
        "    \"\"\"\n",
        "    return np.log(np.exp(-pred * y) + 1.0)"
      ]
    },
    {
      "cell_type": "code",
      "execution_count": null,
      "metadata": {
        "colab": {
          "base_uri": "https://localhost:8080/",
          "height": 74
        },
        "id": "EvY70rTGDEch",
        "outputId": "8ecdc3a5-e7be-4a19-9dd2-378c5a61ecba"
      },
      "outputs": [
        {
          "output_type": "execute_result",
          "data": {
            "text/plain": [
              "FactorizationMachineClassifier(n_iter=30)"
            ],
            "text/html": [
              "<style>#sk-container-id-1 {color: black;background-color: white;}#sk-container-id-1 pre{padding: 0;}#sk-container-id-1 div.sk-toggleable {background-color: white;}#sk-container-id-1 label.sk-toggleable__label {cursor: pointer;display: block;width: 100%;margin-bottom: 0;padding: 0.3em;box-sizing: border-box;text-align: center;}#sk-container-id-1 label.sk-toggleable__label-arrow:before {content: \"▸\";float: left;margin-right: 0.25em;color: #696969;}#sk-container-id-1 label.sk-toggleable__label-arrow:hover:before {color: black;}#sk-container-id-1 div.sk-estimator:hover label.sk-toggleable__label-arrow:before {color: black;}#sk-container-id-1 div.sk-toggleable__content {max-height: 0;max-width: 0;overflow: hidden;text-align: left;background-color: #f0f8ff;}#sk-container-id-1 div.sk-toggleable__content pre {margin: 0.2em;color: black;border-radius: 0.25em;background-color: #f0f8ff;}#sk-container-id-1 input.sk-toggleable__control:checked~div.sk-toggleable__content {max-height: 200px;max-width: 100%;overflow: auto;}#sk-container-id-1 input.sk-toggleable__control:checked~label.sk-toggleable__label-arrow:before {content: \"▾\";}#sk-container-id-1 div.sk-estimator input.sk-toggleable__control:checked~label.sk-toggleable__label {background-color: #d4ebff;}#sk-container-id-1 div.sk-label input.sk-toggleable__control:checked~label.sk-toggleable__label {background-color: #d4ebff;}#sk-container-id-1 input.sk-hidden--visually {border: 0;clip: rect(1px 1px 1px 1px);clip: rect(1px, 1px, 1px, 1px);height: 1px;margin: -1px;overflow: hidden;padding: 0;position: absolute;width: 1px;}#sk-container-id-1 div.sk-estimator {font-family: monospace;background-color: #f0f8ff;border: 1px dotted black;border-radius: 0.25em;box-sizing: border-box;margin-bottom: 0.5em;}#sk-container-id-1 div.sk-estimator:hover {background-color: #d4ebff;}#sk-container-id-1 div.sk-parallel-item::after {content: \"\";width: 100%;border-bottom: 1px solid gray;flex-grow: 1;}#sk-container-id-1 div.sk-label:hover label.sk-toggleable__label {background-color: #d4ebff;}#sk-container-id-1 div.sk-serial::before {content: \"\";position: absolute;border-left: 1px solid gray;box-sizing: border-box;top: 0;bottom: 0;left: 50%;z-index: 0;}#sk-container-id-1 div.sk-serial {display: flex;flex-direction: column;align-items: center;background-color: white;padding-right: 0.2em;padding-left: 0.2em;position: relative;}#sk-container-id-1 div.sk-item {position: relative;z-index: 1;}#sk-container-id-1 div.sk-parallel {display: flex;align-items: stretch;justify-content: center;background-color: white;position: relative;}#sk-container-id-1 div.sk-item::before, #sk-container-id-1 div.sk-parallel-item::before {content: \"\";position: absolute;border-left: 1px solid gray;box-sizing: border-box;top: 0;bottom: 0;left: 50%;z-index: -1;}#sk-container-id-1 div.sk-parallel-item {display: flex;flex-direction: column;z-index: 1;position: relative;background-color: white;}#sk-container-id-1 div.sk-parallel-item:first-child::after {align-self: flex-end;width: 50%;}#sk-container-id-1 div.sk-parallel-item:last-child::after {align-self: flex-start;width: 50%;}#sk-container-id-1 div.sk-parallel-item:only-child::after {width: 0;}#sk-container-id-1 div.sk-dashed-wrapped {border: 1px dashed gray;margin: 0 0.4em 0.5em 0.4em;box-sizing: border-box;padding-bottom: 0.4em;background-color: white;}#sk-container-id-1 div.sk-label label {font-family: monospace;font-weight: bold;display: inline-block;line-height: 1.2em;}#sk-container-id-1 div.sk-label-container {text-align: center;}#sk-container-id-1 div.sk-container {/* jupyter's `normalize.less` sets `[hidden] { display: none; }` but bootstrap.min.css set `[hidden] { display: none !important; }` so we also need the `!important` here to be able to override the default hidden behavior on the sphinx rendered scikit-learn.org. See: https://github.com/scikit-learn/scikit-learn/issues/21755 */display: inline-block !important;position: relative;}#sk-container-id-1 div.sk-text-repr-fallback {display: none;}</style><div id=\"sk-container-id-1\" class=\"sk-top-container\"><div class=\"sk-text-repr-fallback\"><pre>FactorizationMachineClassifier(n_iter=30)</pre><b>In a Jupyter environment, please rerun this cell to show the HTML representation or trust the notebook. <br />On GitHub, the HTML representation is unable to render, please try loading this page with nbviewer.org.</b></div><div class=\"sk-container\" hidden><div class=\"sk-item\"><div class=\"sk-estimator sk-toggleable\"><input class=\"sk-toggleable__control sk-hidden--visually\" id=\"sk-estimator-id-1\" type=\"checkbox\" checked><label for=\"sk-estimator-id-1\" class=\"sk-toggleable__label sk-toggleable__label-arrow\">FactorizationMachineClassifier</label><div class=\"sk-toggleable__content\"><pre>FactorizationMachineClassifier(n_iter=30)</pre></div></div></div></div></div>"
            ]
          },
          "metadata": {},
          "execution_count": 8
        }
      ],
      "source": [
        "fm = FactorizationMachineClassifier(n_iter = 30, learning_rate = 0.1)\n",
        "fm.fit(X_train_dtm, y_train)"
      ]
    },
    {
      "cell_type": "code",
      "execution_count": null,
      "metadata": {
        "colab": {
          "base_uri": "https://localhost:8080/",
          "height": 411
        },
        "id": "2wnAzmFkDEch",
        "outputId": "6d24f852-522b-4d19-f6e1-cd728b6bcc40"
      },
      "outputs": [
        {
          "output_type": "display_data",
          "data": {
            "text/plain": [
              "<Figure size 576x432 with 1 Axes>"
            ],
            "image/png": "[encoded data removed]"
          },
          "metadata": {
            "needs_background": "light"
          }
        }
      ],
      "source": [
        "# change default style figure and font size\n",
        "plt.rcParams['figure.figsize'] = 8, 6\n",
        "plt.rcParams['font.size'] = 12\n",
        "\n",
        "# one quick way to check that we've implemented\n",
        "# the gradient descent is to ensure that the loss\n",
        "# curve is steadily decreasing\n",
        "plt.plot(fm.history_)\n",
        "plt.title('Loss Curve Per Iteration')\n",
        "plt.xlabel('Iterations')\n",
        "plt.ylabel('Loss')\n",
        "plt.show()"
      ]
    },
    {
      "cell_type": "code",
      "execution_count": null,
      "metadata": {
        "colab": {
          "base_uri": "https://localhost:8080/"
        },
        "id": "lZaccGhiDEch",
        "outputId": "4ebcdc2f-6f75-45fc-cfba-78209f091800"
      },
      "outputs": [
        {
          "output_type": "stream",
          "name": "stdout",
          "text": [
            "auc 0.9973867907642743\n"
          ]
        }
      ],
      "source": [
        "# predict on the test set and output the auc score\n",
        "y_pred_prob = fm.predict_proba(X_test_dtm)[:, 1]\n",
        "auc = roc_auc_score(y_test, y_pred_prob)\n",
        "print('auc', auc)"
      ]
    },
    {
      "cell_type": "code",
      "execution_count": null,
      "metadata": {
        "colab": {
          "base_uri": "https://localhost:8080/"
        },
        "id": "WNrF4-SNDEci",
        "outputId": "c5df9f72-7967-4064-ddcc-b0e928ee18c4"
      },
      "outputs": [
        {
          "output_type": "stream",
          "name": "stdout",
          "text": [
            "auc 0.9950017898693396\n"
          ]
        }
      ],
      "source": [
        "# we can compare it with a logistic regression,\n",
        "logreg = LogisticRegression()\n",
        "logreg.fit(X_train_dtm, y_train)\n",
        "y_pred_prob = logreg.predict_proba(X_test_dtm)[:, 1]\n",
        "auc = roc_auc_score(y_test, y_pred_prob)\n",
        "print('auc', auc)"
      ]
    },
    {
      "cell_type": "markdown",
      "metadata": {
        "id": "g9kJ0tkpDEci"
      },
      "source": [
        "There are various open-sourced implementations floating around the web, here are the links to some of them:\n",
        "\n",
        "- https://github.com/ibayer/fastFM\n",
        "- https://github.com/srendle/libfm\n",
        "- https://github.com/aksnzhy/xlearn\n",
        "- https://github.com/scikit-learn-contrib/polylearn\n",
        "\n",
        "I personally haven't tested which one is more efficient, feel free to grab one of them as see if it helps solve your problem."
      ]
    },
    {
      "cell_type": "markdown",
      "metadata": {
        "collapsed": true,
        "id": "aNK0smQWDEci"
      },
      "source": [
        "# Reference\n",
        "\n",
        "- [Blog: Factorization Machines](http://www.jefkine.com/recsys/2017/03/27/factorization-machines/)\n",
        "- [Blog: Deep Understanding of FFM Principles and Practices (Chinese)](https://tech.meituan.com/deep-understanding-of-ffm-principles-and-practices.html)\n",
        "- [Quora: What are the drawbacks of Factorization Machines?](https://www.quora.com/What-are-the-drawbacks-of-Factorization-Machines)\n",
        "- [Paper: S. Rendle Factorization Machines (2010)](https://www.csie.ntu.edu.tw/~b97053/paper/Rendle2010FM.pdf)"
      ]
    }
  ],
  "metadata": {
    "kernelspec": {
      "display_name": "Python 3",
      "language": "python",
      "name": "python3"
    },
    "language_info": {
      "codemirror_mode": {
        "name": "ipython",
        "version": 3
      },
      "file_extension": ".py",
      "mimetype": "text/x-python",
      "name": "python",
      "nbconvert_exporter": "python",
      "pygments_lexer": "ipython3",
      "version": "3.11.0"
    },
    "toc": {
      "base_numbering": 1,
      "nav_menu": {
        "height": "12px",
        "width": "252px"
      },
      "number_sections": true,
      "sideBar": true,
      "skip_h1_title": false,
      "title_cell": "Table of Contents",
      "title_sidebar": "Contents",
      "toc_cell": true,
      "toc_position": {},
      "toc_section_display": "block",
      "toc_window_display": true
    },
    "varInspector": {
      "cols": {
        "lenName": 16,
        "lenType": 16,
        "lenVar": 40
      },
      "kernels_config": {
        "python": {
          "delete_cmd_postfix": "",
          "delete_cmd_prefix": "del ",
          "library": "var_list.py",
          "varRefreshCmd": "print(var_dic_list())"
        },
        "r": {
          "delete_cmd_postfix": ") ",
          "delete_cmd_prefix": "rm(",
          "library": "var_list.r",
          "varRefreshCmd": "cat(var_dic_list()) "
        }
      },
      "types_to_exclude": [
        "module",
        "function",
        "builtin_function_or_method",
        "instance",
        "_Feature"
      ],
      "window_display": false
    },
    "vscode": {
      "interpreter": {
        "hash": "c261aea317cc0286b3b3261fbba9abdec21eaa57589985bb7a274bf54d6cc0a7"
      }
    },
    "colab": {
      "provenance": [],
      "include_colab_link": true
    }
  },
  "nbformat": 4,
  "nbformat_minor": 0
}